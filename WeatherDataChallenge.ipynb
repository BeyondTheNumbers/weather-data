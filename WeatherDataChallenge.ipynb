{
 "cells": [
  {
   "cell_type": "code",
   "execution_count": 1,
   "metadata": {},
   "outputs": [],
   "source": [
    "# Lynda.com course\n",
    "# Python: Data Analysis\n",
    "\n",
    "# Chapter 5: Weather Data with Numpy\n",
    "# Challenge:\n",
    "\n",
    "# After retrieving a list of weather stations and weather data from NOAA:\n",
    "# 1) Find the year with the highest mean TMAX in Minneapolis (cold location)\n",
    "# 2) Find the year with the lowest mean TMIN in San Diego (warm location)\n",
    "# 3) In the same plot, show the TMIN and TMAX throughout those specific years for those two cities\n",
    "\n",
    "# See project_overview.txt for additional introductory comments"
   ]
  },
  {
   "cell_type": "code",
   "execution_count": 2,
   "metadata": {},
   "outputs": [],
   "source": [
    "# Import packages that are needed for this task\n",
    "from datetime import datetime # Record the data download time\n",
    "import urllib.request # Download data\n",
    "from random import sample # Look at random entries of the raw data; use numpy.random.choice() for arrays later\n",
    "import numpy as np # For data analysis\n",
    "import matplotlib.pyplot as pp # Plot data\n",
    "# import seaborn # Optional (for fancier plotting options)"
   ]
  },
  {
   "cell_type": "code",
   "execution_count": 3,
   "metadata": {},
   "outputs": [],
   "source": [
    "# Display plots inline\n",
    "%matplotlib inline"
   ]
  },
  {
   "cell_type": "code",
   "execution_count": 4,
   "metadata": {},
   "outputs": [
    {
     "name": "stdout",
     "output_type": "stream",
     "text": [
      "Accessed: 2018-06-16 06:49:36.983227\n"
     ]
    },
    {
     "data": {
      "text/plain": [
       "('stations.txt', <email.message.Message at 0x110fd7278>)"
      ]
     },
     "execution_count": 4,
     "metadata": {},
     "output_type": "execute_result"
    }
   ],
   "source": [
    "# Get a list of weather stations from https://www1.ncdc.noaa.gov/pub/data/ghcn/daily/\n",
    "print('Accessed:', datetime.today()) # Keep track of when the data was downloaded\n",
    "urllib.request.urlretrieve('ftp://ftp.ncdc.noaa.gov/pub/data/ghcn/daily/ghcnd-stations.txt','stations.txt')"
   ]
  },
  {
   "cell_type": "code",
   "execution_count": 5,
   "metadata": {},
   "outputs": [
    {
     "data": {
      "text/plain": [
       "['US1ILCK0063  42.0039  -87.9813  213.1 IL ELK GROVE VILLAGE 0.6 ESE                   \\n',\n",
       " 'CA003070970  57.9500 -116.2167  793.0 AB BUFFALO LO                                  \\n',\n",
       " 'USC00051698  38.3500 -105.7833 2104.9 CO COALDALE 2 SW                               \\n',\n",
       " 'MZM00067205 -11.3620   40.3550   27.1    MOCIMBOA DA PRAIA                      67205\\n',\n",
       " 'CA1PE000015  46.4325  -63.8215   30.2 PE SLEMON PARK 0.3 SSE - CLOSED                \\n',\n",
       " 'CA0040318MN  49.0500 -105.4833  756.0 SK CORONACH SPC                           71516\\n',\n",
       " 'USC00501662  61.8000 -148.4500  284.1 AK CHICKALOON                                  \\n',\n",
       " 'USS0007H05S  41.3000 -107.1500 2706.6 WY Divide Peak                                 \\n',\n",
       " 'USC00214103  46.3197  -93.5014  391.7 MN ISLE 12N                                    \\n',\n",
       " 'US1VAFX0033  38.7462  -77.1386   17.1 VA FRANCONIA 1.3 SSE                           \\n']"
      ]
     },
     "execution_count": 5,
     "metadata": {},
     "output_type": "execute_result"
    }
   ],
   "source": [
    "# Let's look at ten random lines (rather than the first ten) of the downloaded file stations.txt\n",
    "sample(open('stations.txt','r').readlines(), 10)"
   ]
  },
  {
   "cell_type": "code",
   "execution_count": 6,
   "metadata": {},
   "outputs": [
    {
     "data": {
      "text/plain": [
       "991"
      ]
     },
     "execution_count": 6,
     "metadata": {},
     "output_type": "execute_result"
    }
   ],
   "source": [
    "# The first string is the station code, and further to the right is the station name\n",
    "# The remaining data looks like location and elevation data, and the state if the station is in the US\n",
    "# We can look at the readme.txt documentation file (downloaded later) for a detailed explanation\n",
    "\n",
    "# We are interested in the stations from the GCOS Surface Network (tagged GSN)\n",
    "# Make a dictionary of GSN stations with keys the station code\n",
    "stations = {}\n",
    "\n",
    "for line in open('stations.txt','r'):\n",
    "    if ' GSN ' in line:\n",
    "        fields = line.split() # For each line, make a list, split by white spaces\n",
    "\n",
    "        # Use the first string as key, and assign the text after the fourth white space as value\n",
    "        # To keep the code simple, we take all of the text after the fourth white space\n",
    "        # Using the width of each string from the documentation, we could clean this up a bit more\n",
    "        # See section IV. FORMAT OF \"ghcnd-stations.txt\" of readme.txt\n",
    "        stations[fields[0]] = ' '.join(fields[4:])\n",
    "\n",
    "# We can now look up a station by its station code (if known)\n",
    "\n",
    "# Also display the total number of stations in our dictionary\n",
    "len(stations)"
   ]
  },
  {
   "cell_type": "code",
   "execution_count": 7,
   "metadata": {},
   "outputs": [
    {
     "data": {
      "text/plain": [
       "{'SF002955390': 'MEQUATLINGSNEK',\n",
       " 'SF004066580': 'LAINGSNEK',\n",
       " 'SWE00138026': 'RYNINGSNAS'}"
      ]
     },
     "execution_count": 7,
     "metadata": {},
     "output_type": "execute_result"
    }
   ],
   "source": [
    "# Note the blank spaces on either side of 'GSN' in the code that generates the dictionary stations\n",
    "# This is to avoid stations whose names contain this substring\n",
    "# A more sophisticated algorithm would look for the string only in the correct position for the network flag\n",
    "\n",
    "# It turns out there are three stations whose names include the string 'GSN' but that do not belong to GSN:\n",
    "imposter_stations = {}\n",
    "\n",
    "for line in open('stations.txt','r'):\n",
    "    if 'GSN' in line:\n",
    "        fields = line.split()\n",
    "        \n",
    "        if fields[0] not in stations.keys():\n",
    "            imposter_stations[fields[0]] = ' '.join(fields[4:])\n",
    "\n",
    "imposter_stations"
   ]
  },
  {
   "cell_type": "code",
   "execution_count": 8,
   "metadata": {},
   "outputs": [],
   "source": [
    "# Write a function to find the dictionary entry of station(s) that contain a certain substring\n",
    "def findstation(s):\n",
    "    # All names are capitalized in the stations list\n",
    "    # Use upper() method to avoid having to type all caps when looking up stations\n",
    "    matches = {code: name for code, name in stations.items() if s.upper() in name}\n",
    "    print(matches)"
   ]
  },
  {
   "cell_type": "code",
   "execution_count": 9,
   "metadata": {},
   "outputs": [
    {
     "name": "stdout",
     "output_type": "stream",
     "text": [
      "{'USW00014922': 'MN MINNEAPOLIS/ST PAUL AP GSN HCN 72658'}\n",
      "{'USW00023188': 'CA SAN DIEGO LINDBERGH FLD GSN 72290'}\n"
     ]
    }
   ],
   "source": [
    "# For our challenge, we will be looking at Minneapolis and San Diego\n",
    "findstation('minneapolis')\n",
    "findstation('san diego')"
   ]
  },
  {
   "cell_type": "code",
   "execution_count": 10,
   "metadata": {},
   "outputs": [
    {
     "name": "stdout",
     "output_type": "stream",
     "text": [
      "Data from Minneapolis station available.\n",
      "Data from San Diego station available.\n"
     ]
    }
   ],
   "source": [
    "# Check if data for these two stations is available for ftp download\n",
    "with urllib.request.urlopen('https://www1.ncdc.noaa.gov/pub/data/ghcn/daily/gsn/') as website:\n",
    "    for line in website:\n",
    "        line = line.decode('utf-8') # Decoding the binary data to text\n",
    "        if 'USW00014922' in line:\n",
    "            print('Data from Minneapolis station available.')\n",
    "        elif 'USW00023188' in line:\n",
    "            print('Data from San Diego station available.')"
   ]
  },
  {
   "cell_type": "code",
   "execution_count": 11,
   "metadata": {},
   "outputs": [
    {
     "name": "stdout",
     "output_type": "stream",
     "text": [
      "Accessed: 2018-06-16 06:49:48.994502\n"
     ]
    },
    {
     "data": {
      "text/plain": [
       "('minneapolis.dly', <email.message.Message at 0x112605048>)"
      ]
     },
     "execution_count": 11,
     "metadata": {},
     "output_type": "execute_result"
    }
   ],
   "source": [
    "# Dowload Minneapolis station data\n",
    "print('Accessed:', datetime.today())\n",
    "urllib.request.urlretrieve('ftp://ftp.ncdc.noaa.gov/pub/data/ghcn/daily/all/USW00014922.dly','minneapolis.dly')"
   ]
  },
  {
   "cell_type": "code",
   "execution_count": 12,
   "metadata": {},
   "outputs": [
    {
     "name": "stdout",
     "output_type": "stream",
     "text": [
      "Accessed: 2018-06-16 06:49:53.240871\n"
     ]
    },
    {
     "data": {
      "text/plain": [
       "('san_diego.dly', <email.message.Message at 0x112605198>)"
      ]
     },
     "execution_count": 12,
     "metadata": {},
     "output_type": "execute_result"
    }
   ],
   "source": [
    "# Dowload San Diego station data\n",
    "print('Accessed:', datetime.today())\n",
    "urllib.request.urlretrieve('ftp://ftp.ncdc.noaa.gov/pub/data/ghcn/daily/all/USW00023188.dly','san_diego.dly')"
   ]
  },
  {
   "cell_type": "code",
   "execution_count": 13,
   "metadata": {},
   "outputs": [
    {
     "data": {
      "text/plain": [
       "['USW00014922196512WT06-9999   -9999   -9999   -9999   -9999   -9999   -9999   -9999       1  0-9999   -9999   -9999       1  0-9999   -9999   -9999   -9999   -9999   -9999   -9999   -9999   -9999       1  0-9999   -9999   -9999   -9999   -9999   -9999   -9999   -9999   \\n',\n",
       " 'USW00014922197803PGTM 1506  X 2318  X 1448  X 1406  X 1254  X 1142  X 0854  X 2212  X 0836  X 2336  X 0018  X 2154  X 1400  X 1012  X 1130  X 1354  X 1436  X 0854  X 1012  X 1036  X 1318  X 1124  X 1712  X 1754  X 1324  X 2200  X 2224  X 1412  X 0042  X 1112  X 2012  X\\n',\n",
       " 'USW00014922199305SNWD    0  0    0  0    0  0    0  0    0  0    0  0    0  0    0  0    0  0    0  0    0  0    0  0    0  0    0  0    0  0    0  0    0  0    0  0    0  0    0  0    0  0    0  0    0  0    0  0    0  0    0  0    0  0    0  0    0  0    0  0    0  0\\n',\n",
       " 'USW00014922198604PRCP    0  0    3  0   99  0   69  0   25  0    0  0    0  0    0  0    0  0    0  0    0  0    3  0    0  0  279  0    8  0    0  0    0  0   86  0    8  0    0T 0    0  0    0  0    0  0   41  0   15  0  188  0  450  0  112  0  109  0    0T 0-9999   \\n',\n",
       " 'USW00014922196607PSUN   98  X   74  X   64  X   69  X   57  X   79  X   98  X   72  X   99  X   78  X   76  X   79  X   14  X   57  X  100  X   96  X   88  X   90  X   74  X  100  X   99  X   50  X   98  X   94  X   87  X   36  X   49  X   85  X   77  X   87  X   95  X\\n',\n",
       " 'USW00014922197104WT01-9999   -9999   -9999   -9999   -9999   -9999   -9999   -9999   -9999   -9999   -9999   -9999   -9999   -9999   -9999   -9999   -9999   -9999   -9999       1  X-9999   -9999   -9999   -9999   -9999   -9999       1  X    1  X-9999   -9999   -9999   \\n',\n",
       " 'USW00014922199104WSFG   67  X  139  X  123  X  139  X   98  X  129  X  144  X  154  X  154  X   67  X  144  X  139  X  144  X   98  X  144  X   77  X   67  X   72  X  103  X   72  X   62  X  139  X  113  X  118  X  129  X  159  X  149  X  108  X  185  X  185  X-9999   \\n',\n",
       " 'USW00014922196605WT18-9999   -9999   -9999   -9999   -9999   -9999   -9999   -9999   -9999       1  X    1  X-9999   -9999   -9999   -9999   -9999   -9999   -9999   -9999   -9999   -9999   -9999   -9999   -9999   -9999   -9999   -9999   -9999   -9999   -9999   -9999   \\n',\n",
       " 'USW00014922198905TSUN  303  X  709  X  819  X   24  X  567  X  444  X  783  X    0  X  876  X  841  X  844  X  884  X  838  X  672  X  885  X  731  X  712  X    0  X  312  X  902  X  823  X  651  X  696  X  205  X  683  X  578  X  915  X  850  X    3  X   15  X  399  X\\n',\n",
       " 'USW00014922197902WT16-9999   -9999   -9999   -9999   -9999   -9999   -9999   -9999   -9999   -9999   -9999   -9999   -9999       1  X    1  X-9999   -9999   -9999   -9999   -9999   -9999       1  X    1  X-9999   -9999   -9999   -9999   -9999   -9999   -9999   -9999   \\n']"
      ]
     },
     "execution_count": 13,
     "metadata": {},
     "output_type": "execute_result"
    }
   ],
   "source": [
    "# Let's look at ten random lines of the Minneapolis data\n",
    "sample(open('minneapolis.dly','r').readlines(), 10)"
   ]
  },
  {
   "cell_type": "code",
   "execution_count": 14,
   "metadata": {},
   "outputs": [
    {
     "name": "stdout",
     "output_type": "stream",
     "text": [
      "Accessed: 2018-06-16 06:49:58.445818\n"
     ]
    },
    {
     "data": {
      "text/plain": [
       "('readme.txt', <email.message.Message at 0x1126052e8>)"
      ]
     },
     "execution_count": 14,
     "metadata": {},
     "output_type": "execute_result"
    }
   ],
   "source": [
    "# We are going to need (to download) the readme.txt documentation file\n",
    "print('Accessed:', datetime.today())\n",
    "urllib.request.urlretrieve('ftp://ftp.ncdc.noaa.gov/pub/data/ghcn/daily/readme.txt','readme.txt')"
   ]
  },
  {
   "cell_type": "code",
   "execution_count": 15,
   "metadata": {},
   "outputs": [],
   "source": [
    "# Format data into more usable format using numpy.genfromtxt\n",
    "# Write a function first and specify the precise format below\n",
    "def parsefile(filename):\n",
    "    return np.genfromtxt(filename,\n",
    "                         delimiter = dly_delimiter, # widths of columns in the raw data\n",
    "                         usecols = dly_usecols, # the columns we use\n",
    "                         dtype = dly_dtype, # the data type of each column we use\n",
    "                         names = dly_names) # the names we give those columns"
   ]
  },
  {
   "cell_type": "code",
   "execution_count": 16,
   "metadata": {},
   "outputs": [],
   "source": [
    "# Formatting information from readme.txt (and/or structure of opened file)\n",
    "# Section III. FORMAT OF DATA FILES (\".dly\" FILES) of readme.txt\n",
    "# To read inline: open('readme.txt','r').readlines()[98:121]\n",
    "\n",
    "# Each record in a file contains one month of daily data\n",
    "\n",
    "# ID, year, month, element + data for each day of the month (value plus three flags)\n",
    "dly_delimiter = [11,4,2,4] + [5,1,1,1] * 31\n",
    "\n",
    "# Note: in an iteration, we should look at the three flags and clean up the data\n",
    "# For instance, we can see below that there are a lot of 1's in the data that are flagged with an SFLAG1 = 'X'\n",
    "# These appear to be for observations other than TMIN and TMAX, but worth looking into in second step\n",
    "\n",
    "# Use year, month, element, and value columns (for days 1 through 31), but not station ID and flags\n",
    "dly_usecols = [1,2,3] + [4*i for i in range(1,31+1)]\n",
    "\n",
    "dly_dtype = [np.int32, np.int32, (np.str_,4)] + [np.int32] * 31 # specify numpy data types\n",
    "dly_names = ['year','month','obs'] + [str(day) for day in range(1,31+1)] # column names"
   ]
  },
  {
   "cell_type": "code",
   "execution_count": 17,
   "metadata": {},
   "outputs": [],
   "source": [
    "# Format data for the two stations of interest\n",
    "minneapolis = parsefile('minneapolis.dly')\n",
    "san_diego = parsefile('san_diego.dly')"
   ]
  },
  {
   "cell_type": "code",
   "execution_count": 18,
   "metadata": {},
   "outputs": [
    {
     "data": {
      "text/plain": [
       "array([(1938, 4, 'TMAX', -9999, -9999, -9999, -9999, -9999, -9999, -9999, -9999, 106,   189,   172,   217,   256,   194,   117,   133,   228,   217,   172,   144,    89,   144,    94,   111,   156,   267,   256,   156,   144,   222, -9999),\n",
       "       (1938, 4, 'TMIN', -9999, -9999, -9999, -9999, -9999, -9999, -9999, -9999, -17,    11,    61,    28,    78,    78,    72,   106,   106,    72,    11,    -6,    17,    -6,    39,    56,    44,   117,   156,    39,    17,    44, -9999),\n",
       "       (1938, 4, 'PRCP', -9999, -9999, -9999, -9999, -9999, -9999, -9999, -9999,   0,     0,     0,     0,     0,   267,    64,   193,    58,     0,     0,     3,    25,     0,   119,    10,     0,     0,    36,    56,     0,     0, -9999),\n",
       "       ...,\n",
       "       (2018, 6, 'WSF5',   139,   130,   161,   134,   107,   188,   107,   130,  94,   139,   174, -9999, -9999, -9999, -9999, -9999, -9999, -9999, -9999, -9999, -9999, -9999, -9999, -9999, -9999, -9999, -9999, -9999, -9999, -9999, -9999),\n",
       "       (2018, 6, 'WT01', -9999,     1, -9999, -9999, -9999,     1, -9999, -9999,   1, -9999,     1,     1, -9999, -9999, -9999, -9999, -9999, -9999, -9999, -9999, -9999, -9999, -9999, -9999, -9999, -9999, -9999, -9999, -9999, -9999, -9999),\n",
       "       (2018, 6, 'WT03', -9999, -9999, -9999, -9999, -9999,     1, -9999, -9999,   1, -9999, -9999, -9999, -9999, -9999, -9999, -9999, -9999, -9999, -9999, -9999, -9999, -9999, -9999, -9999, -9999, -9999, -9999, -9999, -9999, -9999, -9999)],\n",
       "      dtype=[('year', '<i4'), ('month', '<i4'), ('obs', '<U4'), ('1', '<i4'), ('2', '<i4'), ('3', '<i4'), ('4', '<i4'), ('5', '<i4'), ('6', '<i4'), ('7', '<i4'), ('8', '<i4'), ('9', '<i4'), ('10', '<i4'), ('11', '<i4'), ('12', '<i4'), ('13', '<i4'), ('14', '<i4'), ('15', '<i4'), ('16', '<i4'), ('17', '<i4'), ('18', '<i4'), ('19', '<i4'), ('20', '<i4'), ('21', '<i4'), ('22', '<i4'), ('23', '<i4'), ('24', '<i4'), ('25', '<i4'), ('26', '<i4'), ('27', '<i4'), ('28', '<i4'), ('29', '<i4'), ('30', '<i4'), ('31', '<i4')])"
      ]
     },
     "execution_count": 18,
     "metadata": {},
     "output_type": "execute_result"
    }
   ],
   "source": [
    "# Let's take a look at one of them\n",
    "# Note (from readme.txt and/or looking at the file): missing values are set to -9999\n",
    "minneapolis"
   ]
  },
  {
   "cell_type": "code",
   "execution_count": 19,
   "metadata": {},
   "outputs": [],
   "source": [
    "# Format data for a particular month into a numpy array\n",
    "def unroll(record):\n",
    "    # {}-{:02} = date format\n",
    "    startdate = np.datetime64('{}-{:02}'.format(record['year'], record['month']))\n",
    "\n",
    "    # Start on first of given month and increment by one day until first of next month (not included)\n",
    "    dates = np.arange(startdate, startdate + np.timedelta64(1,'M'), np.timedelta64(1,'D'))\n",
    "\n",
    "    # TMAX and TMIN in tenths of degrees Celsius, see readme.txt\n",
    "    # Thus divide by 10 to get temperature in Celsius\n",
    "    rows = [(date, record[str(i + 1)]/10) for i, date in enumerate(dates)]\n",
    "\n",
    "    return np.array(rows, dtype=[('date','M8[D]'),('value','d')])"
   ]
  },
  {
   "cell_type": "code",
   "execution_count": 20,
   "metadata": {},
   "outputs": [
    {
     "data": {
      "text/plain": [
       "array([('2018-06-01', -9.999e+02), ('2018-06-02', -9.999e+02),\n",
       "       ('2018-06-03', -9.999e+02), ('2018-06-04', -9.999e+02),\n",
       "       ('2018-06-05', -9.999e+02), ('2018-06-06',  1.000e-01),\n",
       "       ('2018-06-07', -9.999e+02), ('2018-06-08', -9.999e+02),\n",
       "       ('2018-06-09',  1.000e-01), ('2018-06-10', -9.999e+02),\n",
       "       ('2018-06-11', -9.999e+02), ('2018-06-12', -9.999e+02),\n",
       "       ('2018-06-13', -9.999e+02), ('2018-06-14', -9.999e+02),\n",
       "       ('2018-06-15', -9.999e+02), ('2018-06-16', -9.999e+02),\n",
       "       ('2018-06-17', -9.999e+02), ('2018-06-18', -9.999e+02),\n",
       "       ('2018-06-19', -9.999e+02), ('2018-06-20', -9.999e+02),\n",
       "       ('2018-06-21', -9.999e+02), ('2018-06-22', -9.999e+02),\n",
       "       ('2018-06-23', -9.999e+02), ('2018-06-24', -9.999e+02),\n",
       "       ('2018-06-25', -9.999e+02), ('2018-06-26', -9.999e+02),\n",
       "       ('2018-06-27', -9.999e+02), ('2018-06-28', -9.999e+02),\n",
       "       ('2018-06-29', -9.999e+02), ('2018-06-30', -9.999e+02)],\n",
       "      dtype=[('date', '<M8[D]'), ('value', '<f8')])"
      ]
     },
     "execution_count": 20,
     "metadata": {},
     "output_type": "execute_result"
    }
   ],
   "source": [
    "# Let's look at the last month on record\n",
    "unroll(minneapolis[-1])"
   ]
  },
  {
   "cell_type": "code",
   "execution_count": 21,
   "metadata": {},
   "outputs": [],
   "source": [
    "# 2018 is not over yet, so the data for the year is obviously incomplete\n",
    "# Also information appears to be missing\n",
    "# Best to exclude 2018 from our later analysis\n",
    "# There are the 1's again mentioned earlier, but this record is not temperature data\n",
    "\n",
    "# We could also look at a random month (and random observation) within the available data\n",
    "# unroll(np.random.choice(minneapolis))\n",
    "# But this makes more sense later once we filtered out only the observations we are interested in\n",
    "\n",
    "# Filter out data for a specific observation (such as TMIN or TMAX)\n",
    "def getobs(filename, obs):\n",
    "    # Only take data corresponding to the observation obs (the second argument of the function)\n",
    "    data = np.concatenate([unroll(row) for row in parsefile(filename) if row[2] == obs])\n",
    "\n",
    "    # Replace placeholder -999.9 (= - 9999/10) for missing data by 'nan' (not a number) using boolean mask\n",
    "    data['value'][data['value'] == -999.9] = np.nan\n",
    "\n",
    "    return data\n",
    "\n",
    "# In a second step, we should check if there is an unusual number of missing values anywhere\n",
    "# E.g. use sum(np.isnan()), or the .count(True) method, or len for a list comprehension\n",
    "# When not sure if all values being summed are genuinely boolean, use bool() before summing"
   ]
  },
  {
   "cell_type": "code",
   "execution_count": 22,
   "metadata": {},
   "outputs": [],
   "source": [
    "# Get TMAX data for Minneapolis and TMIN data for San Diego\n",
    "minneapolis_tmax = getobs('minneapolis.dly', 'TMAX')\n",
    "san_diego_tmin = getobs('san_diego.dly', 'TMIN')"
   ]
  },
  {
   "cell_type": "code",
   "execution_count": 23,
   "metadata": {},
   "outputs": [
    {
     "data": {
      "text/plain": [
       "array([('1947-09-22', 11.1), ('1966-10-27', 21.1), ('1971-04-18', 13.9),\n",
       "       ('1950-12-09', -5.6), ('1979-10-14', 15.6), ('1991-11-09',  1.7),\n",
       "       ('1966-05-21', 27.8), ('1969-12-06',  0.6), ('2015-05-11', 12.8),\n",
       "       ('2013-11-15', 13.3)], dtype=[('date', '<M8[D]'), ('value', '<f8')])"
      ]
     },
     "execution_count": 23,
     "metadata": {},
     "output_type": "execute_result"
    }
   ],
   "source": [
    "# Let's look at TMAX data for the Minneapolis station for ten random dates\n",
    "np.random.choice(minneapolis_tmax, 10)"
   ]
  },
  {
   "cell_type": "code",
   "execution_count": 24,
   "metadata": {},
   "outputs": [
    {
     "data": {
      "text/plain": [
       "(1, 29311, dtype([('date', '<M8[D]'), ('value', '<f8')]))"
      ]
     },
     "execution_count": 24,
     "metadata": {},
     "output_type": "execute_result"
    }
   ],
   "source": [
    "# Let's take a quick look at the kind of array we created\n",
    "# We expect a one-dimensional array of length the number of days of observations on record\n",
    "# Each entry a date and corresponding value\n",
    "minneapolis_tmax.ndim, minneapolis_tmax.size, minneapolis_tmax.dtype # minneapolis_tmax.shape"
   ]
  },
  {
   "cell_type": "code",
   "execution_count": 25,
   "metadata": {},
   "outputs": [],
   "source": [
    "# Fill in values for the missing data by interpolating\n",
    "def fillnans(data):\n",
    "    dates_float = data['date'].astype(np.float64) # convert date to float so we can interpolate\n",
    "\n",
    "    nan = np.isnan(data['value']) # create boolean mask (True if corresponding value is nan)\n",
    "\n",
    "    # Replace all nan values by interpolating with non-missing data\n",
    "    data['value'][nan] = np.interp(dates_float[nan], dates_float[~nan], data['value'][~nan])"
   ]
  },
  {
   "cell_type": "code",
   "execution_count": 26,
   "metadata": {},
   "outputs": [],
   "source": [
    "fillnans(minneapolis_tmax)\n",
    "fillnans(san_diego_tmin)"
   ]
  },
  {
   "cell_type": "code",
   "execution_count": 27,
   "metadata": {},
   "outputs": [
    {
     "data": {
      "text/plain": [
       "(numpy.datetime64('1938-04-01'), numpy.datetime64('2018-06-30'))"
      ]
     },
     "execution_count": 27,
     "metadata": {},
     "output_type": "execute_result"
    }
   ],
   "source": [
    "# Begin and end of record for Minneapolis station, just out of curiosity\n",
    "np.datetime64(minneapolis_tmax[0]['date']), np.datetime64(minneapolis_tmax[-1]['date'])"
   ]
  },
  {
   "cell_type": "code",
   "execution_count": 28,
   "metadata": {},
   "outputs": [
    {
     "data": {
      "text/plain": [
       "(numpy.datetime64('1939-07-01'), numpy.datetime64('2018-06-30'))"
      ]
     },
     "execution_count": 28,
     "metadata": {},
     "output_type": "execute_result"
    }
   ],
   "source": [
    "# Same for San Diego station\n",
    "np.datetime64(san_diego_tmin[0]['date']), np.datetime64(san_diego_tmin[-1]['date'])"
   ]
  },
  {
   "cell_type": "code",
   "execution_count": 29,
   "metadata": {},
   "outputs": [],
   "source": [
    "# Write a function that selects data from a specific year\n",
    "def selectyear(data, year):\n",
    "    start = np.datetime64('{}'.format(year)) # First day of year\n",
    "    end = start + np.timedelta64(1,'Y') # First day of next year, but not included below\n",
    "\n",
    "    return data[(start <= data['date']) & (data['date'] < end)]['value']"
   ]
  },
  {
   "cell_type": "code",
   "execution_count": 30,
   "metadata": {},
   "outputs": [],
   "source": [
    "# np.vstack expects fixed size rows, so for leap years, last day of year is ignored\n",
    "# This is ok for a first pass, but should find better way if iterating this solution\n",
    "# Could consider excluding 2/29 for leap years\n",
    "# Or write a function is_leap_year, add 2/29 to other years, and interpolate 2/29 value\n",
    "\n",
    "# Use np.datetime64(minneapolis_tmax[0]['date'],'Y') etc. (as above) in next lines for more than two stations\n",
    "\n",
    "# Incomplete calendar data in first and last year, so exclude those two years\n",
    "minneapolis_tmax_all = np.vstack(selectyear(minneapolis_tmax, year)[:365] for year in range(1938+1,2018))\n",
    "san_diego_tmin_all = np.vstack(selectyear(san_diego_tmin, year)[:365] for year in range(1939+1,2018))"
   ]
  },
  {
   "cell_type": "code",
   "execution_count": 31,
   "metadata": {},
   "outputs": [
    {
     "data": {
      "text/plain": [
       "((79, 365), (78, 365))"
      ]
     },
     "execution_count": 31,
     "metadata": {},
     "output_type": "execute_result"
    }
   ],
   "source": [
    "# Let's look at the shape of our two numpy arrays\n",
    "# Expect 79 and 78 years worth of data, respectively, and 365 days per year\n",
    "minneapolis_tmax_all.shape, san_diego_tmin_all.shape"
   ]
  },
  {
   "cell_type": "code",
   "execution_count": 32,
   "metadata": {},
   "outputs": [],
   "source": [
    "# Make an array that records mean max and min for each year for Minneapolis and San Diego stations, respectively\n",
    "minneapolis_tmax_mean = np.mean(minneapolis_tmax_all, axis=1)\n",
    "san_diego_tmin_mean = np.mean(san_diego_tmin_all, axis=1)"
   ]
  },
  {
   "cell_type": "code",
   "execution_count": 33,
   "metadata": {},
   "outputs": [
    {
     "data": {
      "text/plain": [
       "array([13.74712329, 11.83917808, 13.82547945, 12.75561644, 11.87452055,\n",
       "       13.12520548, 11.6430137 , 13.43260274, 12.54328767, 13.36410959,\n",
       "       13.54219178, 10.8569863 , 10.44876712, 12.80109589, 13.64356164,\n",
       "       12.78493151, 12.96191781, 12.65589041, 12.49863014, 13.10438356,\n",
       "       12.94986301, 12.18849315, 12.48767123, 11.22136986, 12.85616438,\n",
       "       13.30027397, 11.0890411 , 11.89205479, 11.47780822, 12.64821918,\n",
       "       12.27178082, 12.07945205, 12.01835616, 10.28465753, 13.11643836,\n",
       "       12.26849315, 12.26465753, 13.88438356, 12.65945205, 12.21123288,\n",
       "       11.47726027, 12.87780822, 13.33589041, 12.05726027, 12.1709589 ,\n",
       "       12.2860274 , 11.75835616, 12.51917808, 15.14986301, 13.84164384,\n",
       "       12.12493151, 14.04356164, 12.83013699, 12.28273973, 11.29589041,\n",
       "       12.78767123, 12.55753425, 11.15534247, 12.08328767, 14.54383562,\n",
       "       14.02438356, 12.90739726, 13.54109589, 12.88109589, 12.93671233,\n",
       "       12.8539726 , 13.77972603, 14.43068493, 13.70465753, 12.10739726,\n",
       "       12.33972603, 13.84465753, 13.45863014, 15.6290411 , 12.05479452,\n",
       "       11.15972603, 13.87589041, 14.4260274 , 13.90493151])"
      ]
     },
     "execution_count": 33,
     "metadata": {},
     "output_type": "execute_result"
    }
   ],
   "source": [
    "# Let's take a look at all the years for Minneapolis\n",
    "minneapolis_tmax_mean"
   ]
  },
  {
   "cell_type": "code",
   "execution_count": 34,
   "metadata": {},
   "outputs": [
    {
     "data": {
      "text/plain": [
       "(2012, 15.629041095890411)"
      ]
     },
     "execution_count": 34,
     "metadata": {},
     "output_type": "execute_result"
    }
   ],
   "source": [
    "# Find warmest year(s) for Minneapolis\n",
    "# np.argmax() only returns first index where max; iterate later, e.g. using np.argwhere()\n",
    "# Unlikely that there are two maxima for this kind of data, so ok for now\n",
    "warmest_year = np.argmax(minneapolis_tmax_mean) # index of warmest year\n",
    "warmest = minneapolis_tmax_mean[warmest_year] # Or use np.amax()\n",
    "warmest_year + 1939, warmest # warmest year on record and mean TMAX for that year"
   ]
  },
  {
   "cell_type": "code",
   "execution_count": 35,
   "metadata": {},
   "outputs": [
    {
     "data": {
      "text/plain": [
       "array([  1.1,  -6.7,  -1.7,   2.8,   7.2,   7.8,   2.8,   4.4,   9.4,\n",
       "        11.1,   3.3, -10. , -10.6,  -6.1,   4.4,   0. ,  -6.7,  -3.3,\n",
       "       -15.6, -11.1,  -5.6,  -3.3,  -3.3,  -4.4,   0. ,   4.4,   2.2,\n",
       "        -2.2,  -5.6,   6.7,   7.2,   0. ,   2.2,   0.6,   2.2,  -1.1,\n",
       "         7.8,   0. ,   0.6,   3.3,  -2.2,  -6.1,   0. ,  -0.6,   1.1,\n",
       "         2.2,   5. ,   6.1,   2.8,   6.7,   6.7,   1.7,   1.7,   3.9,\n",
       "        -1.1,  -2.2,   3.9,  -1.1,   0.6,   1.1,   2.2,   1.7,  -2.2,\n",
       "        -1.7,   1.7,  15.6,  12.2,   2.8,   1.1,  18.9,  18.9,  11.1,\n",
       "        19.4,  22.8,  17.2,  26.1,  26.7,  26.1,  26.1,  18.3,  18.9,\n",
       "        21.1,  22.8,  21.1,  14.4,   8.3,  20. ,  12.2,  16.1,  10. ,\n",
       "        10. ,  19.4,  21.1,  17.8,  16.7,  15. ,  16.1,  13.9,  16.1,\n",
       "         8.9,   6.7,  12.2,  17.2,  11.7,  22.8,  23.9,   8.9,  14.4,\n",
       "        17.2,   8.3,  14.4,  11.1,  13.3,  18.3,  22.8,  22.8,  13.3,\n",
       "        13.3,  10.6,  13.9,  17.2,  23.3,  27.2,  26.7,  23.3,  15.6,\n",
       "        17.8,  18.9,  15.6,  18.9,  22.8,  21.7,  20.6,  24.4,  29.4,\n",
       "        23.3,  21.1,  28.3,  33.9,  31.1,  17.2,  23.3,  29.4,  31.7,\n",
       "        18.3,  20.6,  17.8,  33.3,  26.7,  17.8,  16.7,  18.9,  22.2,\n",
       "        24.4,  25. ,  28.9,  28.3,  27.8,  27.8,  32.2,  33.3,  33.9,\n",
       "        23.3,  20.6,  24.4,  21.1,  27.2,  28.3,  25.6,  32.2,  33.9,\n",
       "        28.3,  25. ,  27.2,  25.6,  28.9,  25. ,  27.8,  33.9,  31.1,\n",
       "        32.2,  33.3,  34.4,  37.2,  36.1,  38.3,  35.6,  38.9,  30. ,\n",
       "        32.2,  30.6,  31.1,  31.1,  31.7,  32.8,  32.8,  32.2,  36.7,\n",
       "        34.4,  28.3,  28.9,  30.6,  31.7,  31.7,  35.6,  27.8,  33.3,\n",
       "        28.9,  26.7,  28.3,  26.7,  31.7,  31.1,  33.3,  32.2,  31.7,\n",
       "        25.6,  24.4,  30. ,  31.1,  26.7,  26.1,  26.1,  26.1,  20. ,\n",
       "        28.3,  25.6,  28.3,  21.7,  23.3,  25.6,  25. ,  26.1,  26.7,\n",
       "        26.1,  30. ,  31.7,  24.4,  30. ,  30.6,  28.9,  33.9,  33.3,\n",
       "        30. ,  30. ,  31.1,  33.3,  33.3,  28.9,  27.2,  22.2,  26.1,\n",
       "        23.9,  28.3,  35. ,  25.6,  23.9,  24.4,  29.4,  26.7,  17.8,\n",
       "        16.1,  24.4,  18.9,  17.2,  15.6,  16.1,  25. ,  20. ,  18.3,\n",
       "        20.6,  24.4,  27.8,  25. ,  22.2,  22.2,  25.6,  17.8,   8.9,\n",
       "         7.2,  11.7,  17.8,  10. ,  12.8,  12.8,  11.7,  11.7,  15. ,\n",
       "        16.1,  18.3,  16.7,  10. ,  11.1,  12.2,  21.7,  17.8,  18.3,\n",
       "        15.6,   8.3,   3.9,   6.1,   7.8,   7.2,  10. ,  11.1,   8.3,\n",
       "         3.9,   6.1,   7.2,   7.2,   6.7,   8.3,  12.2,  12.8,  20.6,\n",
       "        13.3,  -2.8,   6.1,  10.6,  11.7,   6.7,  12.2,  13.9,  15. ,\n",
       "        12.2,  16.7,  15.6,  -2.8,  -1.1,  -1.1,  -5. ,   3.9,   2.2,\n",
       "         4.4,   2.2,   8.9,   4.4,  12.8,   7.2,   4.4,   7.8,   0. ,\n",
       "         0.6,   0. ,  -6.7,  -6.7,   6.1,   4.4,   3.9,   3.9,   1.1,\n",
       "        -3.9,  -1.7,   0. ,  -2.2,  -6.1,  -1.7,  -7.2,  -7.8, -10.6,\n",
       "        -7.2,  -6.1,  -3.3,  -7.2,  -3.9])"
      ]
     },
     "execution_count": 35,
     "metadata": {},
     "output_type": "execute_result"
    }
   ],
   "source": [
    "# Let's take a quick look at the warmest year just to see if something looks off\n",
    "minneapolis_tmax_all[warmest_year]"
   ]
  },
  {
   "cell_type": "code",
   "execution_count": 36,
   "metadata": {},
   "outputs": [
    {
     "data": {
      "text/plain": [
       "array([13.36575342, 13.33753425, 12.44410959, 12.86931507, 12.07068493,\n",
       "       12.68986301, 12.81534247, 12.64493151, 11.66082192, 12.16657534,\n",
       "       12.72684932, 12.90739726, 12.76410959, 12.87671233, 13.33068493,\n",
       "       12.90712329, 13.02246575, 14.01452055, 14.33506849, 14.75068493,\n",
       "       13.25671233, 13.30767123, 12.72273973, 13.15342466, 12.54630137,\n",
       "       12.93726027, 13.53287671, 13.4709589 , 13.96246575, 14.03945205,\n",
       "       14.17616438, 13.37232877, 13.92493151, 13.83589041, 13.95452055,\n",
       "       13.20986301, 15.01342466, 15.11479452, 15.6539726 , 15.02931507,\n",
       "       15.29945205, 16.17452055, 14.92410959, 16.23315068, 16.39178082,\n",
       "       14.59561644, 14.14      , 13.8109589 , 13.87808219, 13.80273973,\n",
       "       13.98465753, 13.5169863 , 14.8830137 , 14.23671233, 13.69643836,\n",
       "       14.31835616, 14.83890411, 15.1230137 , 14.13123288, 13.40273973,\n",
       "       14.43808219, 13.93890411, 13.73917808, 14.53835616, 15.09013699,\n",
       "       14.73643836, 14.76273973, 13.99506849, 14.16246575, 14.42958904,\n",
       "       13.96630137, 14.09150685, 14.67616438, 14.40273973, 16.26794521,\n",
       "       16.11013699, 15.48109589, 15.38191781])"
      ]
     },
     "execution_count": 36,
     "metadata": {},
     "output_type": "execute_result"
    }
   ],
   "source": [
    "# Let's take a look at all the years for San Diego\n",
    "san_diego_tmin_mean"
   ]
  },
  {
   "cell_type": "code",
   "execution_count": 37,
   "metadata": {},
   "outputs": [
    {
     "data": {
      "text/plain": [
       "(1948, 11.66082191780822)"
      ]
     },
     "execution_count": 37,
     "metadata": {},
     "output_type": "execute_result"
    }
   ],
   "source": [
    "# Find coldest year(s) for San Diego\n",
    "coldest_year = np.argmin(san_diego_tmin_mean)\n",
    "coldest = san_diego_tmin_mean[coldest_year]\n",
    "coldest_year + 1940, coldest"
   ]
  },
  {
   "cell_type": "code",
   "execution_count": 38,
   "metadata": {},
   "outputs": [
    {
     "data": {
      "text/plain": [
       "array([ 4.4,  5. , 11.1, 10.6,  8.9,  8.9,  7.8,  8.3, 10. , 10. ,  7.2,\n",
       "        7.8,  7.8,  8.3,  7.8,  7.2,  5. ,  3.9,  3.9,  5. ,  4.4,  5. ,\n",
       "        7.8, 11.1, 12.2, 10.6,  4.4,  2.2,  5. ,  4.4,  4.4,  5.6,  6.7,\n",
       "        6.1,  7.2,  8.3,  7.8,  5.6,  3.3,  5. ,  8.9,  5. ,  3.9,  2.8,\n",
       "        7.2,  5.6,  7.8, 11.1,  8.9,  8.9,  9.4,  7.8,  9.4,  9.4,  5.6,\n",
       "        7.8, 10. , 11.1,  9.4,  8.3,  8.3,  6.1, 10. ,  7.2,  5.6,  5.6,\n",
       "        7.2,  7.8, 11.7, 10.6,  7.2,  7.2,  7.8,  9.4,  9.4,  7.2,  8.9,\n",
       "        7.8, 10.6,  8.9,  5. ,  7.2,  7.2,  9.4,  8.3,  6.1,  7.8, 11.7,\n",
       "       12.8, 11.1, 11.7, 12.8, 12.8, 12.2, 10. ,  7.8, 11.1,  8.9,  8.3,\n",
       "       10. , 11.7, 10. ,  6.7,  8.9, 11.1, 13.9, 14.4, 13.9, 12.8, 12.2,\n",
       "       12.8, 13.3, 13.3, 13.3, 11.7, 10.6, 13.3, 12.8, 13.3, 11.1,  8.3,\n",
       "       11.1, 11.1, 10.6, 12.8, 13.9, 13.9, 13.9, 13.3, 11.7, 12.8, 11.7,\n",
       "       12.2, 12.2, 13.3, 14.4, 12.2, 12.2, 11.1, 11.7, 11.1,  9.4, 11.7,\n",
       "       13.3, 13.9, 13.3, 13.9, 13.9, 13.3, 12.8, 14.4, 14.4, 13.9, 13.9,\n",
       "       13.9, 14.4, 12.8, 11.1, 13.9, 14.4, 12.8, 15. , 14.4, 15.6, 15. ,\n",
       "       14.4, 15.6, 15.6, 15.6, 15. , 15. , 13.3, 15. , 14.4, 15.6, 16.7,\n",
       "       16.1, 16.1, 15.6, 15.6, 15.6, 15.6, 15.6, 15.6, 15. , 14.4, 12.8,\n",
       "       13.9, 13.9, 15. , 13.9, 15.6, 15.6, 15.6, 14.4, 15. , 16.1, 15.6,\n",
       "       16.1, 16.1, 15.6, 15. , 16.1, 16.7, 16.7, 16.7, 16.1, 17.2, 16.7,\n",
       "       16.7, 16.7, 15.6, 17.2, 17.2, 17.2, 17.2, 18.3, 17.2, 17.2, 16.7,\n",
       "       15.6, 15.6, 15.6, 16.7, 16.7, 16.7, 16.1, 16.1, 16.1, 16.1, 16.7,\n",
       "       16.1, 17.2, 17.2, 16.7, 16.7, 16.1, 16.7, 16.1, 17.2, 16.7, 16.7,\n",
       "       15.6, 16.1, 16.7, 17.2, 17.2, 17.2, 16.7, 16.1, 15.6, 15.6, 16.1,\n",
       "       15.6, 17.2, 16.1, 16.1, 16.7, 16.1, 18.3, 19.4, 16.7, 15.6, 16.7,\n",
       "       17.2, 15.6, 15. , 16.1, 12.8, 10.6, 12.8, 13.9, 12.2, 13.3, 14.4,\n",
       "       15.6, 14.4, 16.1, 15.6, 15.6, 12.2, 14.4, 16.1, 15.6, 15. , 13.3,\n",
       "       14.4, 12.2, 13.9, 13.3, 13.3, 15.6, 14.4, 16.1, 14.4, 13.3, 13.3,\n",
       "       11.7, 13.3, 13.3, 14.4, 15.6, 14.4, 11.1,  8.3, 10.6, 11.7, 13.9,\n",
       "       12.8, 10. , 10.6, 10. ,  9.4,  8.3,  9.4,  8.9,  9.4,  9.4,  7.2,\n",
       "        8.3,  8.3,  8.9,  7.8,  9.4, 10. ,  7.2, 10. ,  7.8,  7.2, 10. ,\n",
       "       10. ,  4.4,  5.6,  7.8,  6.1,  6.1,  7.2,  7.8,  8.3,  3.3,  6.1,\n",
       "        6.7,  7.2,  7.2,  6.7,  9.4,  9.4,  7.8, 10. ,  6.7,  5. , 10. ,\n",
       "        7.2,  5.6,  5. ,  6.1, 10. ,  6.1,  2.8,  3.9,  6.7,  8.9,  6.1,\n",
       "        5. ,  9.4])"
      ]
     },
     "execution_count": 38,
     "metadata": {},
     "output_type": "execute_result"
    }
   ],
   "source": [
    "# And a quick look here as well\n",
    "san_diego_tmin_all[coldest_year]"
   ]
  },
  {
   "cell_type": "code",
   "execution_count": 39,
   "metadata": {},
   "outputs": [
    {
     "data": {
      "text/plain": [
       "Text(0.5,1,'TMAX in Minneapolis in 2012 (blue) vs. TMIN in San Diego in 1948 (red) and their means (dashed)')"
      ]
     },
     "execution_count": 39,
     "metadata": {},
     "output_type": "execute_result"
    },
    {
     "data": {
      "image/png": "[encoded data removed]",
      "text/plain": [
       "<matplotlib.figure.Figure at 0x1124fa1d0>"
      ]
     },
     "metadata": {},
     "output_type": "display_data"
    }
   ],
   "source": [
    "# Time to plot the temperature data for these two years\n",
    "# This plot isn't anything fancy but just a starting point\n",
    "\n",
    "pp.figure(figsize=(16,4)) # Figure size; default is a bit small\n",
    "\n",
    "# Could smooth plot in case of noisy data, but does not seem necessary here\n",
    "# For instance, use np.correlate(..., np.ones(some_length)/some_length, 'same')\n",
    "\n",
    "pp.plot(minneapolis_tmax_all[warmest_year], color = 'blue') # Plot Minneapolis record high year\n",
    "# Draw a horizontal line for the mean TMAX for the year as opaque dashed line in the same color\n",
    "pp.axhline(warmest, color = 'blue', linestyle = 'dashed', alpha = .25)\n",
    "\n",
    "pp.plot(san_diego_tmin_all[coldest_year], color = 'red') # Plot San Diego record low year\n",
    "pp.axhline(coldest, color = 'red', linestyle = 'dashed', alpha = .25)\n",
    "\n",
    "pp.axis(xmin=0) # Start x-axis at 0\n",
    "pp.axis(xmax=366) # Note that both years happen to be leap years\n",
    "\n",
    "tick_loc = [15 + 30*d for d in range(12)] # Place ticks roughly in middle of each month; easy to improve\n",
    "labels = ['Jan', 'Feb', 'Mar', 'Apr', 'May', 'Jun', 'Jul', 'Aug', 'Sep', 'Oct', 'Nov', 'Dec']\n",
    "pp.xticks(tick_loc, labels)\n",
    "\n",
    "pp.ylabel('Temperature in Celsius')\n",
    "\n",
    "# This line simply is too long and therefore split across several lines\n",
    "pp.title('TMAX in Minneapolis in {} (blue) '.format(warmest_year + 1939) +\n",
    "         'vs. TMIN in San Diego in {} (red) '.format(coldest_year + 1940) +\n",
    "         'and their means (dashed)')\n",
    "\n",
    "# If iterating, could also gather and display other temperature data for those two years\n",
    "# For example, also include TMIN for Minneapolis and TMAX for San Diego"
   ]
  }
 ],
 "metadata": {
  "kernelspec": {
   "display_name": "Python 3",
   "language": "python",
   "name": "python3"
  },
  "language_info": {
   "codemirror_mode": {
    "name": "ipython",
    "version": 3
   },
   "file_extension": ".py",
   "mimetype": "text/x-python",
   "name": "python",
   "nbconvert_exporter": "python",
   "pygments_lexer": "ipython3",
   "version": "3.6.4"
  }
 },
 "nbformat": 4,
 "nbformat_minor": 2
}
